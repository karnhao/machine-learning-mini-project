{
 "cells": [
  {
   "cell_type": "code",
   "execution_count": 1,
   "metadata": {},
   "outputs": [
    {
     "data": {
      "text/html": [
       "<div>\n",
       "<style scoped>\n",
       "    .dataframe tbody tr th:only-of-type {\n",
       "        vertical-align: middle;\n",
       "    }\n",
       "\n",
       "    .dataframe tbody tr th {\n",
       "        vertical-align: top;\n",
       "    }\n",
       "\n",
       "    .dataframe thead th {\n",
       "        text-align: right;\n",
       "    }\n",
       "</style>\n",
       "<table border=\"1\" class=\"dataframe\">\n",
       "  <thead>\n",
       "    <tr style=\"text-align: right;\">\n",
       "      <th></th>\n",
       "      <th>text</th>\n",
       "      <th>category</th>\n",
       "      <th>region</th>\n",
       "      <th>organization</th>\n",
       "    </tr>\n",
       "  </thead>\n",
       "  <tbody>\n",
       "    <tr>\n",
       "      <th>0</th>\n",
       "      <td>ขอหน่วยงานที่เกี่ยวข้องวางท่อส่งน้ำสำหรับขยายเ...</td>\n",
       "      <td>น้ำ</td>\n",
       "      <td>สระบุรี</td>\n",
       "      <td>สปน.</td>\n",
       "    </tr>\n",
       "    <tr>\n",
       "      <th>1</th>\n",
       "      <td>ขอให้หน่วยงานที่เกี่ยวข้องดำเนินการแก้ไขปัญหาร...</td>\n",
       "      <td>อื่น ๆ</td>\n",
       "      <td>ทุกภูมิภาค</td>\n",
       "      <td>กต.</td>\n",
       "    </tr>\n",
       "    <tr>\n",
       "      <th>2</th>\n",
       "      <td>ขอให้ช่วยเหลือเยียวยาประชาชนที่ได้รับผลกระทบจา...</td>\n",
       "      <td>สาธารณภัย</td>\n",
       "      <td>สุพรรณบุรี</td>\n",
       "      <td>กษ.</td>\n",
       "    </tr>\n",
       "    <tr>\n",
       "      <th>3</th>\n",
       "      <td>ขอให้รัฐบาลทบทวนการแก้ไขปัญหาประชาคมกระเหรี่ยง...</td>\n",
       "      <td>ที่ดินทำกิน</td>\n",
       "      <td>เพชรบุรี</td>\n",
       "      <td>ทส.</td>\n",
       "    </tr>\n",
       "    <tr>\n",
       "      <th>4</th>\n",
       "      <td>ขอให้พิจารณาดำเนินการแก้ไขปัญหาการลักลอบเล่นพน...</td>\n",
       "      <td>อาชญากรรม ยาเสพติดและการพนัน</td>\n",
       "      <td>กรุงเทพมหานคร</td>\n",
       "      <td>ตร.</td>\n",
       "    </tr>\n",
       "    <tr>\n",
       "      <th>...</th>\n",
       "      <td>...</td>\n",
       "      <td>...</td>\n",
       "      <td>...</td>\n",
       "      <td>...</td>\n",
       "    </tr>\n",
       "    <tr>\n",
       "      <th>1952</th>\n",
       "      <td>ขอให้พิจารณากำกับดูแลและเร่งดำเนินการจัดทำร่าง...</td>\n",
       "      <td>การเมือง</td>\n",
       "      <td>ทุกภูมิภาค</td>\n",
       "      <td>สลค.</td>\n",
       "    </tr>\n",
       "    <tr>\n",
       "      <th>1953</th>\n",
       "      <td>ขอให้หน่วยงานที่เกี่ยวข้องบูรณาการการทำงานร่วม...</td>\n",
       "      <td>สวัสดิการ</td>\n",
       "      <td>ทุกภูมิภาค</td>\n",
       "      <td>กต.</td>\n",
       "    </tr>\n",
       "    <tr>\n",
       "      <th>1954</th>\n",
       "      <td>ขอให้หน่วยงานที่เกี่ยวข้องดำเนินการฟื้นฟูเศรษฐ...</td>\n",
       "      <td>เศรษฐกิจ การคลัง</td>\n",
       "      <td>ภาคตะวันออก</td>\n",
       "      <td>คค.</td>\n",
       "    </tr>\n",
       "    <tr>\n",
       "      <th>1955</th>\n",
       "      <td>ขอความอนุเคราะห์ให้จัดระบบประปาหมู่บ้าน ม.6 บ้...</td>\n",
       "      <td>น้ำ</td>\n",
       "      <td>เชียงใหม่</td>\n",
       "      <td>มท.</td>\n",
       "    </tr>\n",
       "    <tr>\n",
       "      <th>1956</th>\n",
       "      <td>ขอให้รัฐบาลทบทวนการแก้ไขปัญหาประชาคมกระเหรี่ยง...</td>\n",
       "      <td>ที่ดินทำกิน</td>\n",
       "      <td>เพชรบุรี</td>\n",
       "      <td>ทส.</td>\n",
       "    </tr>\n",
       "  </tbody>\n",
       "</table>\n",
       "<p>1957 rows × 4 columns</p>\n",
       "</div>"
      ],
      "text/plain": [
       "                                                   text  \\\n",
       "0     ขอหน่วยงานที่เกี่ยวข้องวางท่อส่งน้ำสำหรับขยายเ...   \n",
       "1     ขอให้หน่วยงานที่เกี่ยวข้องดำเนินการแก้ไขปัญหาร...   \n",
       "2     ขอให้ช่วยเหลือเยียวยาประชาชนที่ได้รับผลกระทบจา...   \n",
       "3     ขอให้รัฐบาลทบทวนการแก้ไขปัญหาประชาคมกระเหรี่ยง...   \n",
       "4     ขอให้พิจารณาดำเนินการแก้ไขปัญหาการลักลอบเล่นพน...   \n",
       "...                                                 ...   \n",
       "1952  ขอให้พิจารณากำกับดูแลและเร่งดำเนินการจัดทำร่าง...   \n",
       "1953  ขอให้หน่วยงานที่เกี่ยวข้องบูรณาการการทำงานร่วม...   \n",
       "1954  ขอให้หน่วยงานที่เกี่ยวข้องดำเนินการฟื้นฟูเศรษฐ...   \n",
       "1955  ขอความอนุเคราะห์ให้จัดระบบประปาหมู่บ้าน ม.6 บ้...   \n",
       "1956  ขอให้รัฐบาลทบทวนการแก้ไขปัญหาประชาคมกระเหรี่ยง...   \n",
       "\n",
       "                          category         region organization  \n",
       "0                              น้ำ        สระบุรี         สปน.  \n",
       "1                           อื่น ๆ     ทุกภูมิภาค          กต.  \n",
       "2                        สาธารณภัย     สุพรรณบุรี          กษ.  \n",
       "3                      ที่ดินทำกิน       เพชรบุรี          ทส.  \n",
       "4     อาชญากรรม ยาเสพติดและการพนัน  กรุงเทพมหานคร          ตร.  \n",
       "...                            ...            ...          ...  \n",
       "1952                      การเมือง     ทุกภูมิภาค         สลค.  \n",
       "1953                     สวัสดิการ     ทุกภูมิภาค          กต.  \n",
       "1954              เศรษฐกิจ การคลัง    ภาคตะวันออก          คค.  \n",
       "1955                           น้ำ      เชียงใหม่          มท.  \n",
       "1956                   ที่ดินทำกิน       เพชรบุรี          ทส.  \n",
       "\n",
       "[1957 rows x 4 columns]"
      ]
     },
     "execution_count": 1,
     "metadata": {},
     "output_type": "execute_result"
    }
   ],
   "source": [
    "import pandas as pd\n",
    "\n",
    "data = pd.read_csv(\"complaints_fixed.csv\")\n",
    "data"
   ]
  },
  {
   "cell_type": "code",
   "execution_count": 2,
   "metadata": {},
   "outputs": [
    {
     "data": {
      "text/plain": [
       "(1369, 588)"
      ]
     },
     "execution_count": 2,
     "metadata": {},
     "output_type": "execute_result"
    }
   ],
   "source": [
    "from sklearn.model_selection import train_test_split\n",
    "\n",
    "train_data, test_data = train_test_split(data, test_size=0.3, stratify=data[\"category\"], random_state=0)\n",
    "train_data.shape[0], test_data.shape[0]"
   ]
  },
  {
   "cell_type": "code",
   "execution_count": 3,
   "metadata": {},
   "outputs": [
    {
     "name": "stderr",
     "output_type": "stream",
     "text": [
      "d:\\6510451000\\machine-learning-mini-project\\.venv\\Lib\\site-packages\\sklearn\\feature_extraction\\text.py:525: UserWarning: The parameter 'token_pattern' will not be used since 'tokenizer' is not None'\n",
      "  warnings.warn(\n"
     ]
    },
    {
     "data": {
      "text/plain": [
       "0.7355734112490869"
      ]
     },
     "execution_count": 3,
     "metadata": {},
     "output_type": "execute_result"
    }
   ],
   "source": [
    "from sklearn.pipeline import make_pipeline\n",
    "from sklearn.feature_extraction.text import CountVectorizer, TfidfVectorizer\n",
    "from sklearn.feature_selection import SelectKBest\n",
    "from sklearn.naive_bayes import MultinomialNB\n",
    "from sklearn.linear_model import LogisticRegression\n",
    "from sklearn.ensemble import AdaBoostClassifier, RandomForestClassifier\n",
    "from newmm_tokenizer.tokenizer import word_tokenize\n",
    "\n",
    "def create_pipeline():\n",
    "    return make_pipeline(\n",
    "        # CountVectorizer(),\n",
    "        # TfidfVectorizer(),\n",
    "        # TfidfVectorizer(ngram_range=(1, 3), min_df=5, max_df=0.5),\n",
    "        CountVectorizer(tokenizer=word_tokenize),\n",
    "        # TfidfVectorizer(tokenizer=word_tokenize, ngram_range=(1, 3), min_df=5, max_df=0.5),\n",
    "\n",
    "        # SelectKBest(k=1000),\n",
    "        \n",
    "        MultinomialNB()\n",
    "        # AdaBoostClassifier(estimator=LogisticRegression(), n_estimators=10, random_state=0)\n",
    "        # RandomForestClassifier(n_estimators=10, random_state=0)\n",
    "    )\n",
    "\n",
    "pipeline = create_pipeline()\n",
    "pipeline.fit(train_data[\"text\"], train_data[\"category\"])\n",
    "pipeline.score(train_data[\"text\"], train_data[\"category\"])"
   ]
  },
  {
   "cell_type": "code",
   "execution_count": 4,
   "metadata": {},
   "outputs": [
    {
     "data": {
      "text/plain": [
       "5730"
      ]
     },
     "execution_count": 4,
     "metadata": {},
     "output_type": "execute_result"
    }
   ],
   "source": [
    "pipeline.steps[-1][1].n_features_in_"
   ]
  },
  {
   "cell_type": "code",
   "execution_count": 5,
   "metadata": {},
   "outputs": [
    {
     "data": {
      "text/plain": [
       "0.5153061224489796"
      ]
     },
     "execution_count": 5,
     "metadata": {},
     "output_type": "execute_result"
    }
   ],
   "source": [
    "pipeline.score(test_data[\"text\"], test_data[\"category\"])"
   ]
  },
  {
   "cell_type": "code",
   "execution_count": 6,
   "metadata": {},
   "outputs": [
    {
     "data": {
      "text/plain": [
       "'สาธารณภัย'"
      ]
     },
     "execution_count": 6,
     "metadata": {},
     "output_type": "execute_result"
    }
   ],
   "source": [
    "pipeline.predict([\"น้ำท่วม\"])[0]"
   ]
  },
  {
   "cell_type": "code",
   "execution_count": 7,
   "metadata": {},
   "outputs": [
    {
     "data": {
      "text/plain": [
       "'โครงสร้างพื้นฐานและสาธารณูปโภค'"
      ]
     },
     "execution_count": 7,
     "metadata": {},
     "output_type": "execute_result"
    }
   ],
   "source": [
    "pipeline.predict([\"ถนนทรุด\"])[0]"
   ]
  },
  {
   "cell_type": "code",
   "execution_count": 8,
   "metadata": {},
   "outputs": [
    {
     "data": {
      "text/plain": [
       "array([1.37341547e-03, 1.62997949e-04, 8.20843096e-02, 7.30108134e-04,\n",
       "       1.99776217e-03, 2.72194596e-02, 2.47787543e-03, 2.38529696e-03,\n",
       "       2.39528903e-03, 6.33314697e-03, 3.24298542e-03, 8.73826430e-04,\n",
       "       1.13739562e-02, 2.06691377e-02, 2.04958899e-03, 6.03198803e-03,\n",
       "       1.10578342e-03, 4.49198052e-03, 4.64284290e-04, 2.25705411e-02,\n",
       "       3.96800700e-03, 1.98016765e-01, 4.40140762e-03, 3.02502941e-03,\n",
       "       6.51061203e-03, 9.80854037e-03, 3.82935892e-02, 1.32516556e-03,\n",
       "       1.24960457e-03, 8.61928911e-03, 2.00292804e-03, 5.19330535e-01,\n",
       "       1.14580527e-03, 2.26898828e-03])"
      ]
     },
     "execution_count": 8,
     "metadata": {},
     "output_type": "execute_result"
    }
   ],
   "source": [
    "predicted = pipeline.predict_proba([\"ถนนทรุด\"])[0]\n",
    "predicted"
   ]
  },
  {
   "cell_type": "code",
   "execution_count": 9,
   "metadata": {},
   "outputs": [
    {
     "data": {
      "text/plain": [
       "OrderedDict([('โครงสร้างพื้นฐานและสาธารณูปโภค', 0.5193305354915263),\n",
       "             ('สาธารณภัย', 0.1980167646618376),\n",
       "             ('การคมนาคม การจราจรหรืออุบัติเหตุ', 0.08208430961517234),\n",
       "             ('อื่น ๆ', 0.03829358920736119),\n",
       "             ('การบริหารราชการแผ่นดิน', 0.027219459595867055),\n",
       "             ('ศิลปะ วัฒนธรรม ศาสนา', 0.022570541063418305),\n",
       "             ('น้ำ', 0.02066913766988561),\n",
       "             ('ที่ดินทำกิน', 0.011373956239822219),\n",
       "             ('อาชญากรรม ยาเสพติดและการพนัน', 0.0098085403656902),\n",
       "             ('เศรษฐกิจ การคลัง', 0.008619289114140187),\n",
       "             ('หนี้สิน เศรษฐกิจฐานราก', 0.006510612027674902),\n",
       "             ('การเมือง', 0.00633314697206917),\n",
       "             ('ผู้มีอิทธิพล การทุจริตและประพฤติมิชอบ', 0.006031988027966285),\n",
       "             ('ราคาสินค้าเกษตร', 0.00449198052183372),\n",
       "             ('สาธารณสุข', 0.004401407616830301),\n",
       "             ('สวัสดิการ', 0.003968006995724535),\n",
       "             ('ความมั่นคง', 0.0032429854179133488),\n",
       "             ('สิ่งแวดล้อม', 0.0030250294090578157),\n",
       "             ('การพาณิชย์', 0.002477875428303222),\n",
       "             ('การเกษตร', 0.002395289027351299),\n",
       "             ('การศึกษา', 0.0023852969578250297),\n",
       "             ('โรคระบาดพืชและสัตว์', 0.002268988283298069),\n",
       "             ('ประมง', 0.0020495889889750674),\n",
       "             ('แรงงาน', 0.0020029280374369582),\n",
       "             ('การท่องเที่ยว', 0.001997762170906884),\n",
       "             ('กฎหมายและกระบวนการยุติธรรม', 0.0013734154671339559),\n",
       "             ('อุตสาหกรรม', 0.0013251655608022108),\n",
       "             ('เทคโนโลยีและดิจิทัล', 0.0012496045708601333),\n",
       "             ('โทรคมนาคมและการสื่อสาร', 0.0011458052690453897),\n",
       "             ('พลังงาน', 0.001105783421707426),\n",
       "             ('ความหลากหลายทางสังคม', 0.0008738264296564171),\n",
       "             ('การต่างประเทศ', 0.0007301081335565042),\n",
       "             ('วิจัย วิทยาศาสตร์ และนวัตกรรม', 0.00046428429019428215),\n",
       "             ('การกีฬา', 0.000162997949156043)])"
      ]
     },
     "execution_count": 9,
     "metadata": {},
     "output_type": "execute_result"
    }
   ],
   "source": [
    "from collections import OrderedDict\n",
    "\n",
    "OrderedDict(sorted(zip(pipeline.classes_, predicted), key=lambda x: x[1])[::-1])"
   ]
  }
 ],
 "metadata": {
  "kernelspec": {
   "display_name": "venv",
   "language": "python",
   "name": "python3"
  },
  "language_info": {
   "codemirror_mode": {
    "name": "ipython",
    "version": 3
   },
   "file_extension": ".py",
   "mimetype": "text/x-python",
   "name": "python",
   "nbconvert_exporter": "python",
   "pygments_lexer": "ipython3",
   "version": "3.11.7"
  }
 },
 "nbformat": 4,
 "nbformat_minor": 2
}
