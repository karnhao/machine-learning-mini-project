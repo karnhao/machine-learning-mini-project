{
 "cells": [
  {
   "cell_type": "code",
   "execution_count": 1,
   "metadata": {},
   "outputs": [
    {
     "name": "stdout",
     "output_type": "stream",
     "text": [
      "WARNING:tensorflow:From c:\\Users\\Sarach\\Desktop\\Workspace\\KU\\Courses\\66-2\\66-262 Machine Learning Systems\\Code\\lab\\venv\\lib\\site-packages\\keras\\src\\losses.py:2976: The name tf.losses.sparse_softmax_cross_entropy is deprecated. Please use tf.compat.v1.losses.sparse_softmax_cross_entropy instead.\n",
      "\n",
      "Found 1877 files belonging to 2 classes.\n",
      "Using 1314 files for training.\n",
      "Using 563 files for validation.\n"
     ]
    }
   ],
   "source": [
    "import tensorflow as tf\n",
    "\n",
    "train_data, valid_data = tf.keras.utils.image_dataset_from_directory(\n",
    "    \"./cats_vs_dogs\",\n",
    "    label_mode=\"categorical\",\n",
    "    image_size=(150, 150),\n",
    "    validation_split=0.3,\n",
    "    subset=\"both\",\n",
    "    seed=0)"
   ]
  },
  {
   "cell_type": "code",
   "execution_count": 2,
   "metadata": {},
   "outputs": [
    {
     "data": {
      "text/plain": [
       "['cat', 'dog']"
      ]
     },
     "execution_count": 2,
     "metadata": {},
     "output_type": "execute_result"
    }
   ],
   "source": [
    "classes = train_data.class_names\n",
    "n_classes = len(classes)\n",
    "classes"
   ]
  },
  {
   "cell_type": "code",
   "execution_count": 3,
   "metadata": {},
   "outputs": [
    {
     "data": {
      "text/plain": [
       "<tf.Tensor: shape=(), dtype=int64, numpy=18>"
      ]
     },
     "execution_count": 3,
     "metadata": {},
     "output_type": "execute_result"
    }
   ],
   "source": [
    "n_batches = valid_data.cardinality()\n",
    "n_batches"
   ]
  },
  {
   "cell_type": "code",
   "execution_count": 4,
   "metadata": {},
   "outputs": [],
   "source": [
    "test_size = n_batches // 2\n",
    "test_data = valid_data.take(test_size)\n",
    "valid_data = valid_data.skip(test_size)"
   ]
  },
  {
   "cell_type": "code",
   "execution_count": 5,
   "metadata": {},
   "outputs": [
    {
     "name": "stdout",
     "output_type": "stream",
     "text": [
      "WARNING:tensorflow:From c:\\Users\\Sarach\\Desktop\\Workspace\\KU\\Courses\\66-2\\66-262 Machine Learning Systems\\Code\\lab\\venv\\lib\\site-packages\\keras\\src\\backend.py:873: The name tf.get_default_graph is deprecated. Please use tf.compat.v1.get_default_graph instead.\n",
      "\n"
     ]
    }
   ],
   "source": [
    "for transform in [\n",
    "    tf.keras.layers.RandomFlip(\"horizontal\"),\n",
    "    tf.keras.layers.RandomRotation(0.1)]:\n",
    "    \n",
    "    train_data = train_data.map(lambda x, y: (transform(x), y))"
   ]
  },
  {
   "cell_type": "code",
   "execution_count": 6,
   "metadata": {},
   "outputs": [
    {
     "name": "stdout",
     "output_type": "stream",
     "text": [
      "WARNING:tensorflow:From c:\\Users\\Sarach\\Desktop\\Workspace\\KU\\Courses\\66-2\\66-262 Machine Learning Systems\\Code\\lab\\venv\\lib\\site-packages\\keras\\src\\layers\\normalization\\batch_normalization.py:979: The name tf.nn.fused_batch_norm is deprecated. Please use tf.compat.v1.nn.fused_batch_norm instead.\n",
      "\n",
      "Model: \"model\"\n",
      "____________________________________________________________________________\n",
      " Layer (type)                Output Shape              Param #   Trainable  \n",
      "============================================================================\n",
      " input_2 (InputLayer)        [(None, 150, 150, 3)]     0         Y          \n",
      "                                                                            \n",
      " rescaling (Rescaling)       (None, 150, 150, 3)       0         Y          \n",
      "                                                                            \n",
      " xception (Functional)       (None, 5, 5, 2048)        2086148   N          \n",
      "                                                       0                    \n",
      "                                                                            \n",
      " global_average_pooling2d (  (None, 2048)              0         Y          \n",
      " GlobalAveragePooling2D)                                                    \n",
      "                                                                            \n",
      " dense (Dense)               (None, 2)                 4098      Y          \n",
      "                                                                            \n",
      "============================================================================\n",
      "Total params: 20865578 (79.60 MB)\n",
      "Trainable params: 4098 (16.01 KB)\n",
      "Non-trainable params: 20861480 (79.58 MB)\n",
      "____________________________________________________________________________\n"
     ]
    }
   ],
   "source": [
    "base_model = tf.keras.applications.Xception(\n",
    "    weights=\"imagenet\",\n",
    "    input_shape=(150, 150, 3),\n",
    "    include_top=False)\n",
    "\n",
    "base_model.trainable = False\n",
    "\n",
    "inputs = tf.keras.Input(shape=(150, 150, 3))\n",
    "scaling = tf.keras.layers.Rescaling(scale=1 / 127.5, offset=-1)\n",
    "outputs = scaling(inputs)\n",
    "outputs = base_model(outputs, training=False)\n",
    "outputs = tf.keras.layers.GlobalAveragePooling2D()(outputs)\n",
    "outputs = tf.keras.layers.Dense(n_classes)(outputs)\n",
    "\n",
    "model = tf.keras.Model(inputs, outputs)\n",
    "model.summary(show_trainable=True)"
   ]
  },
  {
   "cell_type": "code",
   "execution_count": 7,
   "metadata": {},
   "outputs": [
    {
     "name": "stdout",
     "output_type": "stream",
     "text": [
      "Epoch 1/2\n",
      "WARNING:tensorflow:From c:\\Users\\Sarach\\Desktop\\Workspace\\KU\\Courses\\66-2\\66-262 Machine Learning Systems\\Code\\lab\\venv\\lib\\site-packages\\keras\\src\\utils\\tf_utils.py:492: The name tf.ragged.RaggedTensorValue is deprecated. Please use tf.compat.v1.ragged.RaggedTensorValue instead.\n",
      "\n",
      "42/42 [==============================] - 17s 366ms/step - loss: 7.2517 - categorical_accuracy: 0.4970 - val_loss: 7.0920 - val_categorical_accuracy: 0.5236\n",
      "Epoch 2/2\n",
      "42/42 [==============================] - 19s 453ms/step - loss: 7.7279 - categorical_accuracy: 0.4992 - val_loss: 7.0920 - val_categorical_accuracy: 0.5236\n",
      "9/9 [==============================] - 5s 502ms/step - loss: 7.4434 - categorical_accuracy: 0.4896\n"
     ]
    },
    {
     "data": {
      "text/plain": [
       "[7.443426132202148, 0.4895833432674408]"
      ]
     },
     "execution_count": 7,
     "metadata": {},
     "output_type": "execute_result"
    }
   ],
   "source": [
    "model.compile(\n",
    "    optimizer=tf.keras.optimizers.AdamW(),\n",
    "    loss=tf.keras.losses.CategoricalCrossentropy(),\n",
    "    metrics=[tf.keras.metrics.CategoricalAccuracy()])\n",
    "\n",
    "epochs = 2\n",
    "model.fit(train_data, epochs=epochs, validation_data=valid_data)\n",
    "model.evaluate(test_data)"
   ]
  },
  {
   "cell_type": "code",
   "execution_count": 8,
   "metadata": {},
   "outputs": [],
   "source": [
    "# base_model.trainable = True\n",
    "# model.summary(show_trainable=True)\n",
    "\n",
    "# model.compile(\n",
    "#     optimizer=tf.keras.optimizers.AdamW(1e-5),\n",
    "#     loss=tf.keras.losses.CategoricalCrossentropy(),\n",
    "#     metrics=[tf.keras.metrics.CategoricalAccuracy()])\n",
    "\n",
    "# epochs = 1\n",
    "# model.fit(train_data, epochs=epochs, validation_data=valid_data)\n",
    "# model.evaluate(test_data)"
   ]
  },
  {
   "cell_type": "code",
   "execution_count": 9,
   "metadata": {},
   "outputs": [
    {
     "name": "stdout",
     "output_type": "stream",
     "text": [
      "1/1 [==============================] - 1s 750ms/step\n"
     ]
    },
    {
     "data": {
      "text/plain": [
       "'cat'"
      ]
     },
     "execution_count": 9,
     "metadata": {},
     "output_type": "execute_result"
    }
   ],
   "source": [
    "import numpy as np\n",
    "\n",
    "def predict(path):\n",
    "    image = tf.keras.preprocessing.image.load_img(path, target_size=(150, 150))\n",
    "    image = tf.keras.preprocessing.image.img_to_array(image)\n",
    "    image = np.expand_dims(image, axis=0)\n",
    "\n",
    "    predicted = model.predict(image)[0].argmax(axis=-1)\n",
    "    return classes[predicted]\n",
    "\n",
    "predict(\"cats_vs_dogs/cat/0.jpg\")"
   ]
  }
 ],
 "metadata": {
  "kernelspec": {
   "display_name": "venv",
   "language": "python",
   "name": "python3"
  },
  "language_info": {
   "codemirror_mode": {
    "name": "ipython",
    "version": 3
   },
   "file_extension": ".py",
   "mimetype": "text/x-python",
   "name": "python",
   "nbconvert_exporter": "python",
   "pygments_lexer": "ipython3",
   "version": "3.10.11"
  }
 },
 "nbformat": 4,
 "nbformat_minor": 2
}
