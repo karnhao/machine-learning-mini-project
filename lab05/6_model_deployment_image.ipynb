{
 "cells": [
  {
   "cell_type": "code",
   "execution_count": 1,
   "metadata": {},
   "outputs": [
    {
     "name": "stdout",
     "output_type": "stream",
     "text": [
      "WARNING:tensorflow:From c:\\Users\\Sarach\\Desktop\\Workspace\\KU\\Courses\\66-2\\66-262 Machine Learning Systems\\Code\\lab\\venv\\lib\\site-packages\\keras\\src\\losses.py:2976: The name tf.losses.sparse_softmax_cross_entropy is deprecated. Please use tf.compat.v1.losses.sparse_softmax_cross_entropy instead.\n",
      "\n",
      "Found 1877 files belonging to 2 classes.\n",
      "Using 1314 files for training.\n",
      "Using 563 files for validation.\n"
     ]
    }
   ],
   "source": [
    "import tensorflow as tf\n",
    "\n",
    "train_data, valid_data = tf.keras.utils.image_dataset_from_directory(\n",
    "    \"./cats_vs_dogs\",\n",
    "    label_mode=\"categorical\",\n",
    "    image_size=(150, 150),\n",
    "    validation_split=0.3,\n",
    "    subset=\"both\",\n",
    "    seed=0)"
   ]
  },
  {
   "cell_type": "code",
   "execution_count": 2,
   "metadata": {},
   "outputs": [
    {
     "data": {
      "text/plain": [
       "['cat', 'dog']"
      ]
     },
     "execution_count": 2,
     "metadata": {},
     "output_type": "execute_result"
    }
   ],
   "source": [
    "classes = train_data.class_names\n",
    "classes"
   ]
  },
  {
   "cell_type": "code",
   "execution_count": 3,
   "metadata": {},
   "outputs": [
    {
     "data": {
      "text/plain": [
       "['classes.joblib']"
      ]
     },
     "execution_count": 3,
     "metadata": {},
     "output_type": "execute_result"
    }
   ],
   "source": [
    "import joblib\n",
    "joblib.dump(classes, \"classes.joblib\")"
   ]
  },
  {
   "cell_type": "code",
   "execution_count": 4,
   "metadata": {},
   "outputs": [
    {
     "data": {
      "text/plain": [
       "2"
      ]
     },
     "execution_count": 4,
     "metadata": {},
     "output_type": "execute_result"
    }
   ],
   "source": [
    "n_classes = len(classes)\n",
    "n_classes"
   ]
  },
  {
   "cell_type": "code",
   "execution_count": 5,
   "metadata": {},
   "outputs": [
    {
     "data": {
      "text/plain": [
       "<tf.Tensor: shape=(), dtype=int64, numpy=18>"
      ]
     },
     "execution_count": 5,
     "metadata": {},
     "output_type": "execute_result"
    }
   ],
   "source": [
    "n_batches = valid_data.cardinality()\n",
    "n_batches"
   ]
  },
  {
   "cell_type": "code",
   "execution_count": 6,
   "metadata": {},
   "outputs": [],
   "source": [
    "test_size = n_batches // 2\n",
    "test_data = valid_data.take(test_size)\n",
    "valid_data = valid_data.skip(test_size)"
   ]
  },
  {
   "cell_type": "code",
   "execution_count": 7,
   "metadata": {},
   "outputs": [
    {
     "name": "stdout",
     "output_type": "stream",
     "text": [
      "WARNING:tensorflow:From c:\\Users\\Sarach\\Desktop\\Workspace\\KU\\Courses\\66-2\\66-262 Machine Learning Systems\\Code\\lab\\venv\\lib\\site-packages\\keras\\src\\backend.py:873: The name tf.get_default_graph is deprecated. Please use tf.compat.v1.get_default_graph instead.\n",
      "\n"
     ]
    }
   ],
   "source": [
    "for transform in [\n",
    "    tf.keras.layers.RandomFlip(\"horizontal\"),\n",
    "    tf.keras.layers.RandomRotation(0.1)]:\n",
    "    \n",
    "    train_data = train_data.map(lambda x, y: (transform(x), y))"
   ]
  },
  {
   "cell_type": "code",
   "execution_count": 8,
   "metadata": {},
   "outputs": [
    {
     "name": "stdout",
     "output_type": "stream",
     "text": [
      "WARNING:tensorflow:From c:\\Users\\Sarach\\Desktop\\Workspace\\KU\\Courses\\66-2\\66-262 Machine Learning Systems\\Code\\lab\\venv\\lib\\site-packages\\keras\\src\\layers\\normalization\\batch_normalization.py:979: The name tf.nn.fused_batch_norm is deprecated. Please use tf.compat.v1.nn.fused_batch_norm instead.\n",
      "\n",
      "Model: \"model\"\n",
      "____________________________________________________________________________\n",
      " Layer (type)                Output Shape              Param #   Trainable  \n",
      "============================================================================\n",
      " input_2 (InputLayer)        [(None, 150, 150, 3)]     0         Y          \n",
      "                                                                            \n",
      " rescaling (Rescaling)       (None, 150, 150, 3)       0         Y          \n",
      "                                                                            \n",
      " xception (Functional)       (None, 5, 5, 2048)        2086148   N          \n",
      "                                                       0                    \n",
      "                                                                            \n",
      " global_average_pooling2d (  (None, 2048)              0         Y          \n",
      " GlobalAveragePooling2D)                                                    \n",
      "                                                                            \n",
      " dense (Dense)               (None, 2)                 4098      Y          \n",
      "                                                                            \n",
      "============================================================================\n",
      "Total params: 20865578 (79.60 MB)\n",
      "Trainable params: 4098 (16.01 KB)\n",
      "Non-trainable params: 20861480 (79.58 MB)\n",
      "____________________________________________________________________________\n"
     ]
    }
   ],
   "source": [
    "base_model = tf.keras.applications.Xception(\n",
    "    weights=\"imagenet\",\n",
    "    input_shape=(150, 150, 3),\n",
    "    include_top=False)\n",
    "\n",
    "base_model.trainable = False\n",
    "\n",
    "inputs = tf.keras.Input(shape=(150, 150, 3))\n",
    "scaling = tf.keras.layers.Rescaling(scale=1 / 127.5, offset=-1)\n",
    "outputs = scaling(inputs)\n",
    "outputs = base_model(outputs, training=False)\n",
    "outputs = tf.keras.layers.GlobalAveragePooling2D()(outputs)\n",
    "outputs = tf.keras.layers.Dense(n_classes)(outputs)\n",
    "\n",
    "model = tf.keras.Model(inputs, outputs)\n",
    "model.summary(show_trainable=True)"
   ]
  },
  {
   "cell_type": "code",
   "execution_count": 9,
   "metadata": {},
   "outputs": [
    {
     "name": "stdout",
     "output_type": "stream",
     "text": [
      "Epoch 1/2\n",
      "WARNING:tensorflow:From c:\\Users\\Sarach\\Desktop\\Workspace\\KU\\Courses\\66-2\\66-262 Machine Learning Systems\\Code\\lab\\venv\\lib\\site-packages\\keras\\src\\utils\\tf_utils.py:492: The name tf.ragged.RaggedTensorValue is deprecated. Please use tf.compat.v1.ragged.RaggedTensorValue instead.\n",
      "\n",
      "42/42 [==============================] - 15s 316ms/step - loss: 0.6145 - categorical_accuracy: 0.1393 - val_loss: 0.2357 - val_categorical_accuracy: 0.0509\n",
      "Epoch 2/2\n",
      "42/42 [==============================] - 13s 302ms/step - loss: 0.3806 - categorical_accuracy: 0.0708 - val_loss: 0.7159 - val_categorical_accuracy: 0.0509\n",
      "9/9 [==============================] - 2s 250ms/step - loss: 0.3379 - categorical_accuracy: 0.0347\n"
     ]
    },
    {
     "data": {
      "text/plain": [
       "[0.33788612484931946, 0.0347222238779068]"
      ]
     },
     "execution_count": 9,
     "metadata": {},
     "output_type": "execute_result"
    }
   ],
   "source": [
    "model.compile(\n",
    "    optimizer=tf.keras.optimizers.AdamW(),\n",
    "    loss=tf.keras.losses.CategoricalCrossentropy(),\n",
    "    metrics=[tf.keras.metrics.CategoricalAccuracy()])\n",
    "\n",
    "epochs = 2\n",
    "model.fit(train_data, epochs=epochs, validation_data=valid_data)\n",
    "model.evaluate(test_data)"
   ]
  },
  {
   "cell_type": "code",
   "execution_count": 10,
   "metadata": {},
   "outputs": [],
   "source": [
    "# base_model.trainable = True\n",
    "# model.summary(show_trainable=True)\n",
    "\n",
    "# model.compile(\n",
    "#     optimizer=tf.keras.optimizers.AdamW(1e-5),\n",
    "#     loss=tf.keras.losses.CategoricalCrossentropy(),\n",
    "#     metrics=[tf.keras.metrics.CategoricalAccuracy()])\n",
    "\n",
    "# epochs = 1\n",
    "# model.fit(train_data, epochs=epochs, validation_data=valid_data)\n",
    "# model.evaluate(test_data)"
   ]
  },
  {
   "cell_type": "code",
   "execution_count": 11,
   "metadata": {},
   "outputs": [],
   "source": [
    "model.save(\"model.keras\")"
   ]
  },
  {
   "cell_type": "code",
   "execution_count": 12,
   "metadata": {},
   "outputs": [
    {
     "name": "stdout",
     "output_type": "stream",
     "text": [
      "Overwriting app.py\n"
     ]
    }
   ],
   "source": [
    "%%writefile app.py\n",
    "# !pip install gradio ipywidgets\n",
    "import joblib\n",
    "import tensorflow as tf\n",
    "import gradio as gr\n",
    "import numpy as np\n",
    "\n",
    "model = tf.keras.models.load_model(\"model.keras\")\n",
    "classes = joblib.load(\"classes.joblib\")\n",
    "\n",
    "def predict(path):\n",
    "    image = tf.keras.preprocessing.image.load_img(path, target_size=(150, 150))\n",
    "    image = tf.keras.preprocessing.image.img_to_array(image)\n",
    "    image = np.expand_dims(image, axis=0)\n",
    "\n",
    "    predicted = model.predict(image)[0].argmax(axis=-1)\n",
    "    return classes[predicted]\n",
    "\n",
    "# https://www.gradio.app/guides\n",
    "with gr.Blocks() as blocks:\n",
    "    path = gr.Image(label=\"Image\", type=\"filepath\")\n",
    "    label = gr.Textbox(label=\"Label\")\n",
    "\n",
    "    inputs = [path]\n",
    "    outputs = [label]\n",
    "\n",
    "    predict_btn = gr.Button(\"Predict\")\n",
    "    predict_btn.click(predict, inputs=inputs, outputs=outputs)\n",
    "\n",
    "if __name__ == \"__main__\":\n",
    "    blocks.launch() # Local machine only\n",
    "    # blocks.launch(server_name=\"0.0.0.0\") # LAN access to local machine\n",
    "    # blocks.launch(share=True) # Public access to local machine\n",
    "    # predict(\"cats_vs_dogs/cat/0.jpg\")"
   ]
  },
  {
   "cell_type": "code",
   "execution_count": 13,
   "metadata": {},
   "outputs": [
    {
     "name": "stdout",
     "output_type": "stream",
     "text": [
      "Running on local URL:  http://127.0.0.1:7860\n",
      "\n",
      "To create a public link, set `share=True` in `launch()`.\n"
     ]
    },
    {
     "data": {
      "text/html": [
       "<div><iframe src=\"http://127.0.0.1:7860/\" width=\"100%\" height=\"500\" allow=\"autoplay; camera; microphone; clipboard-read; clipboard-write;\" frameborder=\"0\" allowfullscreen></iframe></div>"
      ],
      "text/plain": [
       "<IPython.core.display.HTML object>"
      ]
     },
     "metadata": {},
     "output_type": "display_data"
    }
   ],
   "source": [
    "%run app.py"
   ]
  }
 ],
 "metadata": {
  "kernelspec": {
   "display_name": "venv",
   "language": "python",
   "name": "python3"
  },
  "language_info": {
   "codemirror_mode": {
    "name": "ipython",
    "version": 3
   },
   "file_extension": ".py",
   "mimetype": "text/x-python",
   "name": "python",
   "nbconvert_exporter": "python",
   "pygments_lexer": "ipython3",
   "version": "3.10.11"
  }
 },
 "nbformat": 4,
 "nbformat_minor": 2
}
